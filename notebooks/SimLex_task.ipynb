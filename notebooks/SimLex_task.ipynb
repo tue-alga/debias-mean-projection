{
 "cells": [
  {
   "cell_type": "code",
   "execution_count": 2,
   "metadata": {},
   "outputs": [],
   "source": [
    "import pandas as pd\n",
    "import numpy as np\n",
    "from gensim.models.keyedvectors import Word2VecKeyedVectors\n",
    "from gensim.models import KeyedVectors\n",
    "from scipy.stats.mstats import spearmanr\n",
    "import csv"
   ]
  },
  {
   "cell_type": "code",
   "execution_count": 9,
   "metadata": {},
   "outputs": [],
   "source": [
    "glove_orig = '../data/embeddings/glove.42B.300d.txt'"
   ]
  },
  {
   "cell_type": "code",
   "execution_count": 13,
   "metadata": {},
   "outputs": [],
   "source": [
    "model = KeyedVectors.load_word2vec_format(glove_orig, binary=False)\n",
    "vecs = model.vectors\n",
    "words = list(model.key_to_index.keys())"
   ]
  },
  {
   "cell_type": "code",
   "execution_count": 17,
   "metadata": {},
   "outputs": [],
   "source": [
    "P_mean = np.load('../P_means.npy')"
   ]
  },
  {
   "cell_type": "code",
   "execution_count": 22,
   "metadata": {},
   "outputs": [],
   "source": [
    "def vec(w):\n",
    "    return model[w]\n",
    "\n",
    "def cos_sim(a, b):\n",
    "    return a.dot(b) / (np.linalg.norm(a) * np.linalg.norm(b))\n",
    "\n",
    "def load_word_vectors(fname):\n",
    "    \n",
    "    model = KeyedVectors.load_word2vec_format(fname, binary=False)\n",
    "    vecs = model.vectors\n",
    "    words = list(model.key_to_index.keys())\n",
    "    return model, vecs, words\n",
    "\n",
    "def measure_emb_correlation(df, all_emb_words, P):\n",
    "    df = df.loc[df['word1'].isin(all_emb_words)]\n",
    "    df = df.loc[df['word2'].isin(all_emb_words)]\n",
    "    \n",
    "    rel_words = list(set(df['word1'].tolist() + df['word2'].tolist()))\n",
    "    \n",
    "    words_glove_vec = {}\n",
    "    for word in rel_words:\n",
    "        words_glove_vec[word] = vec(word)\n",
    "        \n",
    "    glove_sim = []\n",
    "    proj_glove_sim = []\n",
    "    for _, row in df.iterrows():\n",
    "        w1, w2 = row['word1'], row['word2']\n",
    "        sim = cos_sim(words_glove_vec[w1], words_glove_vec[w2])\n",
    "        glove_sim.append(sim)\n",
    "\n",
    "        p_sim = cos_sim(P.dot(words_glove_vec[w1]), P.dot(words_glove_vec[w2]))\n",
    "        proj_glove_sim.append(p_sim)\n",
    "    \n",
    "    df['glove_sim'] = np.array(glove_sim)\n",
    "    df['proj_glove_sim'] = np.array(proj_glove_sim)\n",
    "    \n",
    "    print('glove:', spearmanr(df['similarity'], df['glove_sim']))\n",
    "    print('glove -P:', spearmanr(df['similarity'], df['proj_glove_sim']))\n",
    "    return df\n",
    "    \n",
    "# def measure_emb_correlation(df, model_cleaned):\n",
    "#     all_emb_words = model_cleaned.key_to_index.keys()\n",
    "#     df = df.loc[df['word1'].isin(all_emb_words)]\n",
    "#     df = df.loc[df['word2'].isin(all_emb_words)]\n",
    "    \n",
    "#     rel_words = list(set(df['word1'].tolist() + df['word2'].tolist()))\n",
    "    \n",
    "#     words_glove_vec = {}\n",
    "#     for word in rel_words:\n",
    "#         words_glove_vec[word] = vec(word)\n",
    "        \n",
    "#     glove_sim = []\n",
    "#     proj_glove_sim = []\n",
    "#     for _, row in df.iterrows():\n",
    "#         w1, w2 = row['word1'], row['word2']\n",
    "#         sim = cos_sim(words_glove_vec[w1], words_glove_vec[w2])\n",
    "#         glove_sim.append(sim)\n",
    "\n",
    "#         p_sim = model_cleaned.cosine_similarities(model_cleaned[w1], [model_cleaned[w2]])\n",
    "#         proj_glove_sim.append(p_sim)\n",
    "    \n",
    "#     df['glove_sim'] = np.array(glove_sim)\n",
    "#     df['proj_glove_sim'] = np.array(proj_glove_sim)\n",
    "    \n",
    "#     print('glove:', spearmanr(df['similarity'], df['glove_sim']))\n",
    "#     print('glove -P:', spearmanr(df['similarity'], df['proj_glove_sim']))\n",
    "#     return df"
   ]
  },
  {
   "cell_type": "code",
   "execution_count": 7,
   "metadata": {},
   "outputs": [],
   "source": [
    "model_cleaned, _, _ = load_word_vectors(fname = \"../better_proj_data/embeddings/vecs_mean.150k.cleaned.txt\")\n"
   ]
  },
  {
   "cell_type": "markdown",
   "metadata": {},
   "source": [
    "### SimLex999"
   ]
  },
  {
   "cell_type": "markdown",
   "metadata": {},
   "source": [
    "Data from: https://fh295.github.io/simlex.html"
   ]
  },
  {
   "cell_type": "code",
   "execution_count": 20,
   "metadata": {},
   "outputs": [
    {
     "data": {
      "text/html": [
       "<div>\n",
       "<style scoped>\n",
       "    .dataframe tbody tr th:only-of-type {\n",
       "        vertical-align: middle;\n",
       "    }\n",
       "\n",
       "    .dataframe tbody tr th {\n",
       "        vertical-align: top;\n",
       "    }\n",
       "\n",
       "    .dataframe thead th {\n",
       "        text-align: right;\n",
       "    }\n",
       "</style>\n",
       "<table border=\"1\" class=\"dataframe\">\n",
       "  <thead>\n",
       "    <tr style=\"text-align: right;\">\n",
       "      <th></th>\n",
       "      <th>word1</th>\n",
       "      <th>word2</th>\n",
       "      <th>POS</th>\n",
       "      <th>similarity</th>\n",
       "      <th>conc(w1)</th>\n",
       "      <th>conc(w2)</th>\n",
       "      <th>concQ</th>\n",
       "      <th>Assoc(USF)</th>\n",
       "      <th>SimAssoc333</th>\n",
       "      <th>SD(SimLex)</th>\n",
       "    </tr>\n",
       "  </thead>\n",
       "  <tbody>\n",
       "    <tr>\n",
       "      <th>0</th>\n",
       "      <td>old</td>\n",
       "      <td>new</td>\n",
       "      <td>A</td>\n",
       "      <td>1.58</td>\n",
       "      <td>2.72</td>\n",
       "      <td>2.81</td>\n",
       "      <td>2</td>\n",
       "      <td>7.25</td>\n",
       "      <td>1</td>\n",
       "      <td>0.41</td>\n",
       "    </tr>\n",
       "    <tr>\n",
       "      <th>1</th>\n",
       "      <td>smart</td>\n",
       "      <td>intelligent</td>\n",
       "      <td>A</td>\n",
       "      <td>9.20</td>\n",
       "      <td>1.75</td>\n",
       "      <td>2.46</td>\n",
       "      <td>1</td>\n",
       "      <td>7.11</td>\n",
       "      <td>1</td>\n",
       "      <td>0.67</td>\n",
       "    </tr>\n",
       "    <tr>\n",
       "      <th>2</th>\n",
       "      <td>hard</td>\n",
       "      <td>difficult</td>\n",
       "      <td>A</td>\n",
       "      <td>8.77</td>\n",
       "      <td>3.76</td>\n",
       "      <td>2.21</td>\n",
       "      <td>2</td>\n",
       "      <td>5.94</td>\n",
       "      <td>1</td>\n",
       "      <td>1.19</td>\n",
       "    </tr>\n",
       "    <tr>\n",
       "      <th>3</th>\n",
       "      <td>happy</td>\n",
       "      <td>cheerful</td>\n",
       "      <td>A</td>\n",
       "      <td>9.55</td>\n",
       "      <td>2.56</td>\n",
       "      <td>2.34</td>\n",
       "      <td>1</td>\n",
       "      <td>5.85</td>\n",
       "      <td>1</td>\n",
       "      <td>2.18</td>\n",
       "    </tr>\n",
       "    <tr>\n",
       "      <th>4</th>\n",
       "      <td>hard</td>\n",
       "      <td>easy</td>\n",
       "      <td>A</td>\n",
       "      <td>0.95</td>\n",
       "      <td>3.76</td>\n",
       "      <td>2.07</td>\n",
       "      <td>2</td>\n",
       "      <td>5.82</td>\n",
       "      <td>1</td>\n",
       "      <td>0.93</td>\n",
       "    </tr>\n",
       "  </tbody>\n",
       "</table>\n",
       "</div>"
      ],
      "text/plain": [
       "   word1        word2 POS  similarity  conc(w1)  conc(w2)  concQ  Assoc(USF)  \\\n",
       "0    old          new   A        1.58      2.72      2.81      2        7.25   \n",
       "1  smart  intelligent   A        9.20      1.75      2.46      1        7.11   \n",
       "2   hard    difficult   A        8.77      3.76      2.21      2        5.94   \n",
       "3  happy     cheerful   A        9.55      2.56      2.34      1        5.85   \n",
       "4   hard         easy   A        0.95      3.76      2.07      2        5.82   \n",
       "\n",
       "   SimAssoc333  SD(SimLex)  \n",
       "0            1        0.41  \n",
       "1            1        0.67  \n",
       "2            1        1.19  \n",
       "3            1        2.18  \n",
       "4            1        0.93  "
      ]
     },
     "execution_count": 20,
     "metadata": {},
     "output_type": "execute_result"
    }
   ],
   "source": [
    "df_simlex = pd.read_csv('../SimLex-999/SimLex-999.txt', sep='\\t')\n",
    "df_simlex = df_simlex.rename(columns={\"SimLex999\": \"similarity\"})\n",
    "df_simlex.head()"
   ]
  },
  {
   "cell_type": "code",
   "execution_count": 23,
   "metadata": {},
   "outputs": [
    {
     "name": "stdout",
     "output_type": "stream",
     "text": [
      "glove: SpearmanrResult(correlation=0.3738001400000711, pvalue=1.7519187885575554e-34)\n",
      "glove -P: SpearmanrResult(correlation=0.36815044618095205, pvalue=2.0062117415448982e-33)\n"
     ]
    }
   ],
   "source": [
    "df_simlex = measure_emb_correlation(df_simlex, words, P_mean)"
   ]
  },
  {
   "cell_type": "code",
   "execution_count": null,
   "metadata": {},
   "outputs": [],
   "source": []
  },
  {
   "cell_type": "markdown",
   "metadata": {},
   "source": [
    "### WordSim 353"
   ]
  },
  {
   "cell_type": "markdown",
   "metadata": {},
   "source": [
    "source: http://alfonseca.org/eng/research/wordsim353.html"
   ]
  },
  {
   "cell_type": "markdown",
   "metadata": {},
   "source": [
    "#### Similarity"
   ]
  },
  {
   "cell_type": "code",
   "execution_count": 27,
   "metadata": {},
   "outputs": [
    {
     "data": {
      "text/html": [
       "<div>\n",
       "<style scoped>\n",
       "    .dataframe tbody tr th:only-of-type {\n",
       "        vertical-align: middle;\n",
       "    }\n",
       "\n",
       "    .dataframe tbody tr th {\n",
       "        vertical-align: top;\n",
       "    }\n",
       "\n",
       "    .dataframe thead th {\n",
       "        text-align: right;\n",
       "    }\n",
       "</style>\n",
       "<table border=\"1\" class=\"dataframe\">\n",
       "  <thead>\n",
       "    <tr style=\"text-align: right;\">\n",
       "      <th></th>\n",
       "      <th>word1</th>\n",
       "      <th>word2</th>\n",
       "      <th>similarity</th>\n",
       "    </tr>\n",
       "  </thead>\n",
       "  <tbody>\n",
       "    <tr>\n",
       "      <th>0</th>\n",
       "      <td>tiger</td>\n",
       "      <td>cat</td>\n",
       "      <td>7.35</td>\n",
       "    </tr>\n",
       "    <tr>\n",
       "      <th>1</th>\n",
       "      <td>tiger</td>\n",
       "      <td>tiger</td>\n",
       "      <td>10.00</td>\n",
       "    </tr>\n",
       "    <tr>\n",
       "      <th>2</th>\n",
       "      <td>plane</td>\n",
       "      <td>car</td>\n",
       "      <td>5.77</td>\n",
       "    </tr>\n",
       "    <tr>\n",
       "      <th>3</th>\n",
       "      <td>train</td>\n",
       "      <td>car</td>\n",
       "      <td>6.31</td>\n",
       "    </tr>\n",
       "    <tr>\n",
       "      <th>4</th>\n",
       "      <td>television</td>\n",
       "      <td>radio</td>\n",
       "      <td>6.77</td>\n",
       "    </tr>\n",
       "  </tbody>\n",
       "</table>\n",
       "</div>"
      ],
      "text/plain": [
       "        word1  word2  similarity\n",
       "0       tiger    cat        7.35\n",
       "1       tiger  tiger       10.00\n",
       "2       plane    car        5.77\n",
       "3       train    car        6.31\n",
       "4  television  radio        6.77"
      ]
     },
     "execution_count": 27,
     "metadata": {},
     "output_type": "execute_result"
    }
   ],
   "source": [
    "df_353_sim = pd.read_csv('../WordSim353/wordsim_similarity_goldstandard.txt', sep='\\t', names=['word1', 'word2', 'similarity'])\n",
    "df_353_sim.head()"
   ]
  },
  {
   "cell_type": "code",
   "execution_count": 30,
   "metadata": {},
   "outputs": [
    {
     "name": "stdout",
     "output_type": "stream",
     "text": [
      "glove: SpearmanrResult(correlation=0.6953847581116936, pvalue=1.1908298243958436e-29)\n",
      "glove -P: SpearmanrResult(correlation=0.6963115680215075, pvalue=9.331212305133868e-30)\n"
     ]
    }
   ],
   "source": [
    "df_353_sim = measure_emb_correlation(df_353_sim, words, P_mean)"
   ]
  },
  {
   "cell_type": "code",
   "execution_count": 38,
   "metadata": {},
   "outputs": [
    {
     "data": {
      "text/html": [
       "<div>\n",
       "<style scoped>\n",
       "    .dataframe tbody tr th:only-of-type {\n",
       "        vertical-align: middle;\n",
       "    }\n",
       "\n",
       "    .dataframe tbody tr th {\n",
       "        vertical-align: top;\n",
       "    }\n",
       "\n",
       "    .dataframe thead th {\n",
       "        text-align: right;\n",
       "    }\n",
       "</style>\n",
       "<table border=\"1\" class=\"dataframe\">\n",
       "  <thead>\n",
       "    <tr style=\"text-align: right;\">\n",
       "      <th></th>\n",
       "      <th>word1</th>\n",
       "      <th>word2</th>\n",
       "      <th>similarity</th>\n",
       "      <th>glove_sim</th>\n",
       "      <th>proj_glove_sim</th>\n",
       "    </tr>\n",
       "  </thead>\n",
       "  <tbody>\n",
       "    <tr>\n",
       "      <th>17</th>\n",
       "      <td>fuck</td>\n",
       "      <td>sex</td>\n",
       "      <td>9.44</td>\n",
       "      <td>0.670561</td>\n",
       "      <td>0.665727</td>\n",
       "    </tr>\n",
       "  </tbody>\n",
       "</table>\n",
       "</div>"
      ],
      "text/plain": [
       "   word1 word2  similarity  glove_sim  proj_glove_sim\n",
       "17  fuck   sex        9.44   0.670561        0.665727"
      ]
     },
     "execution_count": 38,
     "metadata": {},
     "output_type": "execute_result"
    }
   ],
   "source": [
    "df_353_sim[df_353_sim[\"word1\"] == \"fuck\"]"
   ]
  },
  {
   "cell_type": "markdown",
   "metadata": {},
   "source": [
    "#### Relatedness"
   ]
  },
  {
   "cell_type": "code",
   "execution_count": 31,
   "metadata": {},
   "outputs": [
    {
     "data": {
      "text/html": [
       "<div>\n",
       "<style scoped>\n",
       "    .dataframe tbody tr th:only-of-type {\n",
       "        vertical-align: middle;\n",
       "    }\n",
       "\n",
       "    .dataframe tbody tr th {\n",
       "        vertical-align: top;\n",
       "    }\n",
       "\n",
       "    .dataframe thead th {\n",
       "        text-align: right;\n",
       "    }\n",
       "</style>\n",
       "<table border=\"1\" class=\"dataframe\">\n",
       "  <thead>\n",
       "    <tr style=\"text-align: right;\">\n",
       "      <th></th>\n",
       "      <th>word1</th>\n",
       "      <th>word2</th>\n",
       "      <th>similarity</th>\n",
       "    </tr>\n",
       "  </thead>\n",
       "  <tbody>\n",
       "    <tr>\n",
       "      <th>0</th>\n",
       "      <td>computer</td>\n",
       "      <td>keyboard</td>\n",
       "      <td>7.62</td>\n",
       "    </tr>\n",
       "    <tr>\n",
       "      <th>1</th>\n",
       "      <td>Jerusalem</td>\n",
       "      <td>Israel</td>\n",
       "      <td>8.46</td>\n",
       "    </tr>\n",
       "    <tr>\n",
       "      <th>2</th>\n",
       "      <td>planet</td>\n",
       "      <td>galaxy</td>\n",
       "      <td>8.11</td>\n",
       "    </tr>\n",
       "    <tr>\n",
       "      <th>3</th>\n",
       "      <td>canyon</td>\n",
       "      <td>landscape</td>\n",
       "      <td>7.53</td>\n",
       "    </tr>\n",
       "    <tr>\n",
       "      <th>4</th>\n",
       "      <td>OPEC</td>\n",
       "      <td>country</td>\n",
       "      <td>5.63</td>\n",
       "    </tr>\n",
       "  </tbody>\n",
       "</table>\n",
       "</div>"
      ],
      "text/plain": [
       "       word1      word2  similarity\n",
       "0   computer   keyboard        7.62\n",
       "1  Jerusalem     Israel        8.46\n",
       "2     planet     galaxy        8.11\n",
       "3     canyon  landscape        7.53\n",
       "4       OPEC    country        5.63"
      ]
     },
     "execution_count": 31,
     "metadata": {},
     "output_type": "execute_result"
    }
   ],
   "source": [
    "df_353_rel = pd.read_csv('../WordSim353/wordsim_relatedness_goldstandard.txt', sep='\\t', names=['word1', 'word2', 'similarity'])\n",
    "df_353_rel.head()"
   ]
  },
  {
   "cell_type": "code",
   "execution_count": 32,
   "metadata": {},
   "outputs": [
    {
     "name": "stdout",
     "output_type": "stream",
     "text": [
      "glove: SpearmanrResult(correlation=0.5999016814083603, pvalue=1.1815135039496508e-24)\n",
      "glove -P: SpearmanrResult(correlation=0.5984413637919774, pvalue=1.6344853277812252e-24)\n"
     ]
    }
   ],
   "source": [
    "df_353_rel = measure_emb_correlation(df_353_rel, words, P_mean)"
   ]
  },
  {
   "cell_type": "markdown",
   "metadata": {},
   "source": [
    "### Mturk"
   ]
  },
  {
   "cell_type": "markdown",
   "metadata": {},
   "source": [
    "source: http://www2.mta.ac.il/~gideon/mturk771.html"
   ]
  },
  {
   "cell_type": "code",
   "execution_count": 36,
   "metadata": {},
   "outputs": [
    {
     "data": {
      "text/html": [
       "<div>\n",
       "<style scoped>\n",
       "    .dataframe tbody tr th:only-of-type {\n",
       "        vertical-align: middle;\n",
       "    }\n",
       "\n",
       "    .dataframe tbody tr th {\n",
       "        vertical-align: top;\n",
       "    }\n",
       "\n",
       "    .dataframe thead th {\n",
       "        text-align: right;\n",
       "    }\n",
       "</style>\n",
       "<table border=\"1\" class=\"dataframe\">\n",
       "  <thead>\n",
       "    <tr style=\"text-align: right;\">\n",
       "      <th></th>\n",
       "      <th>word1</th>\n",
       "      <th>word2</th>\n",
       "      <th>similarity</th>\n",
       "    </tr>\n",
       "  </thead>\n",
       "  <tbody>\n",
       "    <tr>\n",
       "      <th>0</th>\n",
       "      <td>access</td>\n",
       "      <td>gateway</td>\n",
       "      <td>3.791667</td>\n",
       "    </tr>\n",
       "    <tr>\n",
       "      <th>1</th>\n",
       "      <td>account</td>\n",
       "      <td>explanation</td>\n",
       "      <td>2.000000</td>\n",
       "    </tr>\n",
       "    <tr>\n",
       "      <th>2</th>\n",
       "      <td>account</td>\n",
       "      <td>invoice</td>\n",
       "      <td>3.750000</td>\n",
       "    </tr>\n",
       "    <tr>\n",
       "      <th>3</th>\n",
       "      <td>account</td>\n",
       "      <td>statement</td>\n",
       "      <td>3.681818</td>\n",
       "    </tr>\n",
       "    <tr>\n",
       "      <th>4</th>\n",
       "      <td>acoustic</td>\n",
       "      <td>remedy</td>\n",
       "      <td>1.227273</td>\n",
       "    </tr>\n",
       "  </tbody>\n",
       "</table>\n",
       "</div>"
      ],
      "text/plain": [
       "      word1        word2  similarity\n",
       "0    access      gateway    3.791667\n",
       "1   account  explanation    2.000000\n",
       "2   account      invoice    3.750000\n",
       "3   account    statement    3.681818\n",
       "4  acoustic       remedy    1.227273"
      ]
     },
     "execution_count": 36,
     "metadata": {},
     "output_type": "execute_result"
    }
   ],
   "source": [
    "df_mturk = pd.read_csv('../Mturk771/MTURK-771.csv', names=['word1', 'word2', 'similarity'], sep=\",\")\n",
    "df_mturk.head()"
   ]
  },
  {
   "cell_type": "code",
   "execution_count": 37,
   "metadata": {},
   "outputs": [
    {
     "name": "stdout",
     "output_type": "stream",
     "text": [
      "glove: SpearmanrResult(correlation=0.684252286603461, pvalue=1.4888186861090302e-107)\n",
      "glove -P: SpearmanrResult(correlation=0.6841577911953189, pvalue=1.634932119527619e-107)\n"
     ]
    }
   ],
   "source": [
    "df_mturk = measure_emb_correlation(df_mturk, words, P_mean)"
   ]
  }
 ],
 "metadata": {
  "interpreter": {
   "hash": "ac3c6a462db749bae08c5d0be7d66a5de8c4c20f3dd88c905e22e4c1ad0a81d5"
  },
  "kernelspec": {
   "display_name": "Python 3.7.3 ('.venv': venv)",
   "language": "python",
   "name": "python3"
  },
  "language_info": {
   "codemirror_mode": {
    "name": "ipython",
    "version": 3
   },
   "file_extension": ".py",
   "mimetype": "text/x-python",
   "name": "python",
   "nbconvert_exporter": "python",
   "pygments_lexer": "ipython3",
   "version": "3.7.3"
  },
  "orig_nbformat": 4
 },
 "nbformat": 4,
 "nbformat_minor": 2
}
